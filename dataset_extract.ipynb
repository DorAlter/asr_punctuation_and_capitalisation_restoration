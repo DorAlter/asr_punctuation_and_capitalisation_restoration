{
 "cells": [
  {
   "cell_type": "code",
   "execution_count": null,
   "id": "2751f5b4",
   "metadata": {},
   "outputs": [],
   "source": [
    "import pandas as pd\n",
    "from tqdm.notebook import tqdm_notebook as tqdm\n",
    "import csv\n",
    "import sys\n",
    "csv.field_size_limit(sys.maxsize)"
   ]
  },
  {
   "cell_type": "code",
   "execution_count": null,
   "id": "de3f5faa",
   "metadata": {},
   "outputs": [],
   "source": [
    "lan = ['Catalan', 'Croatian', 'Russian', 'German', 'English', 'Spanish'\n",
    "       'French', 'Italian','Lithuanian','Latvian','Dutch','Norwegian (Bokmal)',\n",
    "       'Polish', 'Portuguese (EU)','Romanian','Ukranian']"
   ]
  },
  {
   "cell_type": "code",
   "execution_count": null,
   "id": "f1fae91c",
   "metadata": {},
   "outputs": [],
   "source": [
    "lans = {}\n",
    "lans['Catalan'] = []\n",
    "lans['Croatian'] = []\n",
    "lans['Russian'] = []\n",
    "lans['German'] = []\n",
    "lans['English'] = []\n",
    "lans['Spanish'] = []\n",
    "lans['French'] = []\n",
    "lans['Italian'] = []\n",
    "lans['Lithuanian'] = []\n",
    "lans['Latvian'] = []\n",
    "lans['Dutch'] = []\n",
    "lans['Norwegian (Bokmal)'] = []\n",
    "lans['Polish'] = []\n",
    "lans['Portuguese (EU)'] = []\n",
    "lans['Romanian'] = []\n",
    "lans['Ukranian'] = []"
   ]
  },
  {
   "cell_type": "code",
   "execution_count": null,
   "id": "e061623f",
   "metadata": {},
   "outputs": [],
   "source": [
    "csv.field_size_limit(sys.maxsize)\n",
    "with open('old-newspaper.tsv') as file_obj:\n",
    "    for row in tqdm(csv.reader(file_obj, delimiter=\"\\t\"), total = 16806042):\n",
    "        try:\n",
    "            lanaguage = row[0]\n",
    "            if ( lanaguage in lan) :\n",
    "                lans[lanaguage].append(row[3])\n",
    "        except:\n",
    "            continue"
   ]
  },
  {
   "cell_type": "code",
   "execution_count": null,
   "id": "ae3f5266",
   "metadata": {},
   "outputs": [],
   "source": [
    "for l in lans:\n",
    "    filename = l + '_pre.txt'\n",
    "    with open(filename, 'w') as fp:\n",
    "        for item in lans[l]:\n",
    "            # write each item on a new line\n",
    "            fp.write(\"%s\\n\" % item)"
   ]
  }
 ],
 "metadata": {
  "kernelspec": {
   "display_name": "Python 3 (ipykernel)",
   "language": "python",
   "name": "python3"
  },
  "language_info": {
   "codemirror_mode": {
    "name": "ipython",
    "version": 3
   },
   "file_extension": ".py",
   "mimetype": "text/x-python",
   "name": "python",
   "nbconvert_exporter": "python",
   "pygments_lexer": "ipython3",
   "version": "3.10.10"
  }
 },
 "nbformat": 4,
 "nbformat_minor": 5
}
